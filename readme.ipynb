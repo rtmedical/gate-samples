{
 "cells": [
  {
   "cell_type": "markdown",
   "metadata": {
    "cell_id": "00000-e3f74abc-565d-4562-a95e-7379e9639d95",
    "output_cleared": false,
    "tags": []
   },
   "source": [
    "Hello ! \n",
    "\n",
    "See the following folders and files: \n",
    "- **pet** : Positron Emission Tomography example [pet/pet.ipynb](#%2Fpet%2Fpet.ipynb)\n",
    "- **spect** : Single Photon Emission Tomography example [spect/spect.ipynb](#%2Fspect%2Fspect.ipynb)\n",
    "- **dosimetry** : Radiation Therapy simple examples [dosimetry/ex1.ipynb](#%2Fdosimetry%2Fex1%20dose%20depth%20profile.ipynb) and [dosimetry/ex2.ipynb](#%2Fdosimetry%2Fex2-3%20dose%20map%20analysis.ipynb)\n",
    "- **linac** : Radiation Therapy with a Linac : [linac/phsp.ipynb](#%2Flinac%2Fphsp.ipynb)"
   ]
  },
  {
   "cell_type": "markdown",
   "metadata": {
    "cell_id": "00001-b8b7e43c-48f3-4418-89c0-07591798c78d",
    "output_cleared": false,
    "tags": []
   },
   "source": []
  }
 ],
 "metadata": {
  "deepnote_execution_queue": [],
  "deepnote_notebook_id": "26d2c1fa-e719-4df5-bbab-8c3280246c95",
  "kernelspec": {
   "display_name": "Python 3",
   "language": "python",
   "name": "python3"
  },
  "language_info": {
   "codemirror_mode": {
    "name": "ipython",
    "version": 3
   },
   "file_extension": ".py",
   "mimetype": "text/x-python",
   "name": "python",
   "nbconvert_exporter": "python",
   "pygments_lexer": "ipython3",
   "version": "3.8.2"
  }
 },
 "nbformat": 4,
 "nbformat_minor": 4
}
