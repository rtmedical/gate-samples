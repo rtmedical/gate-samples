{
 "cells": [
  {
   "cell_type": "markdown",
   "metadata": {
    "cell_id": "00000-ae33ef09-9707-4c0a-9581-e16e939b3960",
    "output_cleared": false,
    "tags": []
   },
   "source": [
    "## Initialization Notebook\n",
    "This is your initialization notebook.\n",
    "\n",
    "**What's this for?**\n",
    "\n",
    "You can put custom code you want us to run every time we setup your environment in here. \n",
    "\n",
    "**Awesome! Anything I should not put in here?**\n",
    "\n",
    "Please don't install `jupyter` or `jedi` packages, they would break your Deepnote environment. Also, no need to put `!pip install`s here, we already save those automatically!\n",
    "\n",
    "**I want to learn more!**\n",
    "\n",
    "Great! Just [head over to our docs](https://docs.deepnote.com/environment/custom-initialization)."
   ]
  },
  {
   "cell_type": "code",
   "execution_count": 1,
   "metadata": {
    "cell_id": "00001-1ee79018-1b81-4ccc-9233-5b0fc926d0ba",
    "execution_millis": 3878,
    "execution_start": 1605005199539,
    "output_cleared": false,
    "source_hash": "60b37886",
    "tags": []
   },
   "outputs": [
    {
     "name": "stdout",
     "output_type": "stream",
     "text": [
      "Collecting uproot==3.12.0\n",
      "  Downloading uproot-3.12.0-py2.py3-none-any.whl (116 kB)\n",
      "Collecting click==7.1.2\n",
      "  Downloading click-7.1.2-py2.py3-none-any.whl (82 kB)\n",
      "Collecting SimpleITK==2.0.1\n",
      "  Downloading SimpleITK-2.0.1-cp37-cp37m-manylinux1_x86_64.whl (44.9 MB)\n",
      "Collecting uproot-methods>=0.7.0\n",
      "  Downloading uproot_methods-0.8.0-py2.py3-none-any.whl (32 kB)\n",
      "Collecting awkward<1.0,>=0.12.0\n",
      "  Downloading awkward-0.14.0-py2.py3-none-any.whl (87 kB)\n",
      "Requirement already satisfied: numpy>=1.13.1 in /opt/venv/lib/python3.7/site-packages (from uproot==3.12.0->-r ./requirements.txt (line 1)) (1.19.4)\n",
      "Collecting cachetools\n",
      "  Downloading cachetools-4.1.1-py3-none-any.whl (10 kB)\n",
      "Installing collected packages: awkward, uproot-methods, cachetools, uproot, click, SimpleITK\n",
      "Successfully installed SimpleITK-2.0.1 awkward-0.14.0 cachetools-4.1.1 click-7.1.2 uproot-3.12.0 uproot-methods-0.8.0\n"
     ]
    }
   ],
   "source": [
    "%%bash\n",
    "# If your project has a 'requirements.txt' file, we'll install it here apart from blacklisted packages that interfere with Deepnote (see above).\n",
    "if test -f requirements.txt\n",
    "  then\n",
    "    sed -i '/jedi/d;/jupyter/d;' ./requirements.txt\n",
    "    pip install -r ./requirements.txt\n",
    "  else echo \"There's no requirements.txt, so nothing to install. This is the case with most projects.\"\n",
    "fi"
   ]
  }
 ],
 "metadata": {
  "deepnote_execution_queue": [],
  "deepnote_notebook_id": "d52ea82c-3fc2-471b-98dc-6e4d899c6c99",
  "kernelspec": {
   "display_name": "Python 3 (ipykernel)",
   "language": "python",
   "name": "python3"
  },
  "language_info": {
   "codemirror_mode": {
    "name": "ipython",
    "version": 3
   },
   "file_extension": ".py",
   "mimetype": "text/x-python",
   "name": "python",
   "nbconvert_exporter": "python",
   "pygments_lexer": "ipython3",
   "version": "3.8.12"
  }
 },
 "nbformat": 4,
 "nbformat_minor": 4
}
